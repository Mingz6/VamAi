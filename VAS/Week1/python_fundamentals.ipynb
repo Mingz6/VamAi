{
  "cells": [
    {
      "cell_type": "markdown",
      "id": "84fa1090",
      "metadata": {
        "id": "84fa1090"
      },
      "source": [
        "\n",
        "# 🐍 Python Fundamentals: Hands-on Exercises\n",
        "\n",
        "## Introduction\n",
        "- Welcome to this interactive Python notebook!\n",
        "- In this series of exercises, you'll write your first lines of Python code and explore core programming concepts.\n",
        "- Each section includes a **Try This** explanation followed by a **Task** for you to complete.\n",
        "\n",
        "## Submission Instructions\n",
        "- Fill in the code for each exercise under the **Task** section.\n",
        "- Perform the Challenge that is Exercise 32 and share the generated plots with the group.\n"
      ]
    },
    {
      "cell_type": "markdown",
      "id": "aef842fa",
      "metadata": {
        "id": "aef842fa"
      },
      "source": [
        "\n",
        "## Exercise 1: Print Statements\n",
        "\n",
        "Printing in Python allows us to display text or values. It is useful for\n",
        "outputting messages, debugging, and formatting output for users.\n",
        "\n",
        "💡 **Tip:** You can always consult ChatGPT to explain the code and help you with the task.\n",
        "\n",
        "### 🔹 Try This\n"
      ]
    },
    {
      "cell_type": "code",
      "execution_count": 1,
      "id": "86c51333",
      "metadata": {
        "id": "86c51333"
      },
      "outputs": [
        {
          "name": "stdout",
          "output_type": "stream",
          "text": [
            "Hello, world!\n"
          ]
        }
      ],
      "source": [
        "\n",
        "print(\"Hello, world!\")\n"
      ]
    },
    {
      "cell_type": "markdown",
      "id": "5ff2b6e5",
      "metadata": {
        "id": "5ff2b6e5"
      },
      "source": [
        "\n",
        "### 🎯 Task: Print a Greeting\n",
        "Use `print()` to display a greeting message of your choice.\n"
      ]
    },
    {
      "cell_type": "code",
      "execution_count": 64,
      "id": "b5abc08d",
      "metadata": {
        "id": "b5abc08d"
      },
      "outputs": [
        {
          "name": "stdout",
          "output_type": "stream",
          "text": [
            "Hello, Ming!\n"
          ]
        }
      ],
      "source": [
        "\n",
        "# Your code here\n",
        "\n",
        "print(\"Hello, Ming!\")\n"
      ]
    },
    {
      "cell_type": "markdown",
      "id": "c7862d27",
      "metadata": {
        "id": "c7862d27"
      },
      "source": [
        "\n",
        "## Exercise 2: Variables\n",
        "\n",
        "Variables store values in Python, making it easy to reuse and manipulate\n",
        "data throughout a program. They can hold numbers, text, or more complex\n",
        "structures.\n",
        "\n",
        "💡 **Tip:** You can always consult ChatGPT to explain the code and help you with the task.\n",
        "\n",
        "### 🔹 Try This\n"
      ]
    },
    {
      "cell_type": "code",
      "execution_count": 3,
      "id": "fc88e115",
      "metadata": {
        "id": "fc88e115"
      },
      "outputs": [
        {
          "name": "stdout",
          "output_type": "stream",
          "text": [
            "Alice\n"
          ]
        }
      ],
      "source": [
        "name = \"Alice\"\n",
        "print(name)\n"
      ]
    },
    {
      "cell_type": "markdown",
      "id": "2ad3d5a9",
      "metadata": {
        "id": "2ad3d5a9"
      },
      "source": [
        "\n",
        "### 🎯 Task: Create and Print a Variable\n",
        "Create a variable `city` and assign your favorite city to it, then print it.\n"
      ]
    },
    {
      "cell_type": "code",
      "execution_count": 65,
      "id": "a06f135e",
      "metadata": {
        "id": "a06f135e"
      },
      "outputs": [
        {
          "name": "stdout",
          "output_type": "stream",
          "text": [
            "Vancouver\n"
          ]
        }
      ],
      "source": [
        "# Your code here\n",
        "name = \"Vancouver\"\n",
        "print(name)\n"
      ]
    },
    {
      "cell_type": "markdown",
      "id": "423b87ea",
      "metadata": {
        "id": "423b87ea"
      },
      "source": [
        "\n",
        "## Exercise 3: Data Types\n",
        "\n",
        "Python supports multiple data types, including integers, floats, and\n",
        "strings. Understanding data types helps in performing appropriate\n",
        "operations on variables.\n",
        "\n",
        "💡 **Tip:** You can always consult ChatGPT to explain the code and help you with the task.\n",
        "\n",
        "### 🔹 Try This\n"
      ]
    },
    {
      "cell_type": "code",
      "execution_count": 68,
      "id": "e8a2e467",
      "metadata": {
        "id": "e8a2e467"
      },
      "outputs": [
        {
          "name": "stdout",
          "output_type": "stream",
          "text": [
            "<class 'int'>\n",
            "<class 'float'>\n",
            "<class 'str'>\n"
          ]
        }
      ],
      "source": [
        "x = 10       # Integer\n",
        "y = 3.14     # Float\n",
        "z = \"Hello\"  # String\n",
        "\n",
        "print(type(x))  # Output: <class 'int'>\n",
        "print(type(y))  # Output: <class 'float'>\n",
        "print(type(z))  # Output: <class 'str'>\n"
      ]
    },
    {
      "cell_type": "markdown",
      "id": "2db8a695",
      "metadata": {
        "id": "2db8a695"
      },
      "source": [
        "### 🎯 Task: Create and Check Data Types\n",
        "Create three variables: an integer, a float, and a string, and use `type()` to check them.\n"
      ]
    },
    {
      "cell_type": "code",
      "execution_count": 128,
      "id": "829a140b",
      "metadata": {
        "id": "829a140b"
      },
      "outputs": [
        {
          "name": "stdout",
          "output_type": "stream",
          "text": [
            "Type of num: <class 'int'>\n",
            "Type of decimal: <class 'float'>\n",
            "Type of text: <class 'str'>\n"
          ]
        }
      ],
      "source": [
        "# 🎯 Creating variables with different data types\n",
        "num = 25            # Integer\n",
        "decimal = 4.56      # Float\n",
        "text = \"Hello, World!\"  # String\n",
        "\n",
        "# ✅ Checking and printing their data types\n",
        "print(\"Type of num:\", type(num))        # Output: <class 'int'>\n",
        "print(\"Type of decimal:\", type(decimal)) # Output: <class 'float'>\n",
        "print(\"Type of text:\", type(text))       # Output: <class 'str'>\n"
      ]
    },
    {
      "cell_type": "markdown",
      "id": "849092b3",
      "metadata": {
        "id": "849092b3"
      },
      "source": [
        "\n",
        "## Exercise 4: Basic Arithmetic\n",
        "\n",
        "Python can handle basic mathematical operations like addition, subtraction,\n",
        "multiplication, and division. These are essential for calculations in\n",
        "programming.\n",
        "\n",
        "💡 **Tip:** You can always consult ChatGPT to explain the code and help you with the task.\n",
        "\n",
        "### 🔹 Try This\n"
      ]
    },
    {
      "cell_type": "code",
      "execution_count": 132,
      "id": "03e39c07",
      "metadata": {
        "id": "03e39c07"
      },
      "outputs": [
        {
          "name": "stdout",
          "output_type": "stream",
          "text": [
            "The sum is 8\n",
            "The product is 28\n"
          ]
        }
      ],
      "source": [
        "sum = 5 + 3\n",
        "product = 4 * 7\n",
        "\n",
        "print(\"The sum is\", sum)     # Output: 8\n",
        "print(\"The product is\",product) # Output: 28\n"
      ]
    },
    {
      "cell_type": "markdown",
      "id": "cc6bc455",
      "metadata": {
        "id": "cc6bc455"
      },
      "source": [
        "### 🎯 Task: Calculate Perimeter\n",
        "Define variables `length` and `width`, then compute the perimeter of a rectangle.\n"
      ]
    },
    {
      "cell_type": "code",
      "execution_count": 134,
      "id": "a072142f",
      "metadata": {
        "id": "a072142f"
      },
      "outputs": [
        {
          "name": "stdout",
          "output_type": "stream",
          "text": [
            "The perimeter of the rectangle is: 30\n"
          ]
        }
      ],
      "source": [
        "# Your code here\n",
        "# 🎯 Define length and width\n",
        "length = 10  # Change this value as needed\n",
        "width = 5    # Change this value as needed\n",
        "\n",
        "# ✅ Calculate perimeter (Perimeter = 2 * (length + width))\n",
        "perimeter = 2 * (length + width)\n",
        "\n",
        "# 🔢 Print the result\n",
        "print(\"The perimeter of the rectangle is:\", perimeter)\n"
      ]
    },
    {
      "cell_type": "markdown",
      "id": "3c456bca",
      "metadata": {
        "id": "3c456bca"
      },
      "source": [
        "\n",
        "## Exercise 5: String Manipulation\n",
        "\n",
        "Strings in Python can be combined, modified, and formatted using various\n",
        "methods. String operations are useful for text-based applications.\n",
        "\n",
        "💡 **Tip:** You can always consult ChatGPT to explain the code and help you with the task.\n",
        "\n",
        "### 🔹 Try This\n"
      ]
    },
    {
      "cell_type": "code",
      "execution_count": 135,
      "id": "41d1461c",
      "metadata": {
        "id": "41d1461c"
      },
      "outputs": [
        {
          "name": "stdout",
          "output_type": "stream",
          "text": [
            "Hello Alice\n"
          ]
        }
      ],
      "source": [
        "\n",
        "greeting = \"Hello\" + \" \" + \"Alice\"\n",
        "print(greeting)\n"
      ]
    },
    {
      "cell_type": "markdown",
      "id": "8625591c",
      "metadata": {
        "id": "8625591c"
      },
      "source": [
        "\n",
        "### 🎯 Task: Combine Strings\n",
        "Ask for the user's first and last name and print a full name using `input()`.\n"
      ]
    },
    {
      "cell_type": "code",
      "execution_count": 136,
      "id": "78230f73",
      "metadata": {
        "id": "78230f73"
      },
      "outputs": [
        {
          "name": "stdout",
          "output_type": "stream",
          "text": [
            "Your full name is: Jack Awesome\n"
          ]
        }
      ],
      "source": [
        "# Your code here\n",
        "# 🎯 Ask for user input\n",
        "first_name = input(\"Enter your first name: \")\n",
        "last_name = input(\"Enter your last name: \")\n",
        "\n",
        "# ✅ Combine strings to create full name\n",
        "full_name = first_name + \" \" + last_name\n",
        "\n",
        "# 🔢 Print the result\n",
        "print(\"Your full name is:\", full_name)\n",
        "\n"
      ]
    },
    {
      "cell_type": "markdown",
      "id": "1b6463ea",
      "metadata": {
        "id": "1b6463ea"
      },
      "source": [
        "\n",
        "## Exercise 6: Lists\n",
        "\n",
        "Lists allow you to store multiple values in a single variable. They are\n",
        "useful for managing collections of related data efficiently.\n",
        "\n",
        "💡 **Tip:** You can always consult ChatGPT to explain the code and help you with the task.\n",
        "\n",
        "### 🔹 Try This\n"
      ]
    },
    {
      "cell_type": "code",
      "execution_count": 137,
      "id": "dfdefff2",
      "metadata": {
        "id": "dfdefff2"
      },
      "outputs": [
        {
          "name": "stdout",
          "output_type": "stream",
          "text": [
            "apple\n"
          ]
        }
      ],
      "source": [
        "fruits = [\"apple\", \"banana\", \"cherry\"]\n",
        "print(fruits[0])\n"
      ]
    },
    {
      "cell_type": "markdown",
      "id": "153dcd68",
      "metadata": {
        "id": "153dcd68"
      },
      "source": [
        "\n",
        "### 🎯 Task: Access List Elements\n",
        "Create a list of three favorite foods and print the first one.\n"
      ]
    },
    {
      "cell_type": "code",
      "execution_count": null,
      "id": "9288228c",
      "metadata": {
        "id": "9288228c"
      },
      "outputs": [],
      "source": [
        "# Your code here\n",
        "# 🎯 Create a list of favorite foods\n",
        "favorite_foods = [\"Pizza\", \"Sushi\", \"Ice Cream\"]\n",
        "\n",
        "# ✅ Access and print the first element\n",
        "print(\"My favorite food is:\", favorite_foods[0])\n",
        "\n"
      ]
    },
    {
      "cell_type": "markdown",
      "id": "64467480",
      "metadata": {
        "id": "64467480"
      },
      "source": [
        "\n",
        "## Exercise 7: If Statements\n",
        "\n",
        "Conditional statements allow your program to make decisions. By checking\n",
        "conditions, Python can execute different code blocks based on the situation.\n",
        "\n",
        "💡 **Tip:** You can always consult ChatGPT to explain the code and help you with the task.\n",
        "\n",
        "### 🔹 Try This\n"
      ]
    },
    {
      "cell_type": "code",
      "execution_count": 76,
      "id": "4d52e3b3",
      "metadata": {
        "id": "4d52e3b3"
      },
      "outputs": [
        {
          "name": "stdout",
          "output_type": "stream",
          "text": [
            "Positive number\n"
          ]
        }
      ],
      "source": [
        "\n",
        "if x > 0:\n",
        "    print(\"Positive number\")\n"
      ]
    },
    {
      "cell_type": "markdown",
      "id": "46b1a917",
      "metadata": {
        "id": "46b1a917"
      },
      "source": [
        "\n",
        "### 🎯 Task: Check Positive or Negative\n",
        "Write a program that checks if a number is positive or negative.\n"
      ]
    },
    {
      "cell_type": "code",
      "execution_count": 138,
      "id": "4fab57b1",
      "metadata": {
        "id": "4fab57b1"
      },
      "outputs": [
        {
          "name": "stdout",
          "output_type": "stream",
          "text": [
            "The number is positive. ✅\n"
          ]
        }
      ],
      "source": [
        "# Your code here\n",
        "# 🎯 Get user input\n",
        "num = float(input(\"Enter a number: \"))\n",
        "\n",
        "# ✅ Check if the number is positive, negative, or zero\n",
        "if num > 0:\n",
        "    print(\"The number is positive. ✅\")\n",
        "elif num < 0:\n",
        "    print(\"The number is negative. ❌\")\n",
        "else:\n",
        "    print(\"The number is zero. 🔵\")\n",
        "\n"
      ]
    },
    {
      "cell_type": "markdown",
      "id": "2d5230b1",
      "metadata": {
        "id": "2d5230b1"
      },
      "source": [
        "\n",
        "## Exercise 8: Loops\n",
        "\n",
        "Loops let you repeat actions multiple times. They are useful for iterating\n",
        "over data or running code until a condition is met.\n",
        "\n",
        "💡 **Tip:** You can always consult ChatGPT to explain the code and help you with the task.\n",
        "\n",
        "### 🔹 Try This\n"
      ]
    },
    {
      "cell_type": "code",
      "execution_count": 140,
      "id": "8614b164",
      "metadata": {
        "id": "8614b164"
      },
      "outputs": [
        {
          "name": "stdout",
          "output_type": "stream",
          "text": [
            "0 1 2 3 4 "
          ]
        }
      ],
      "source": [
        "for i in range(5):\n",
        "    print(i, end=\" \")\n"
      ]
    },
    {
      "cell_type": "markdown",
      "id": "65512b87",
      "metadata": {
        "id": "65512b87"
      },
      "source": [
        "\n",
        "### 🎯 Task: Print Odd Numbers\n",
        "Print odd numbers from 1 to 9 using a loop.\n"
      ]
    },
    {
      "cell_type": "code",
      "execution_count": 141,
      "id": "a5f5f04e",
      "metadata": {
        "id": "a5f5f04e"
      },
      "outputs": [
        {
          "name": "stdout",
          "output_type": "stream",
          "text": [
            "1 3 5 7 9 "
          ]
        }
      ],
      "source": [
        "# Write your code below:\n",
        "# 🎯 Print odd numbers from 1 to 9\n",
        "for num in range(1, 10, 2):  # Start at 1, go up to 9, step by 2\n",
        "    print(num, end=\" \")\n"
      ]
    },
    {
      "cell_type": "markdown",
      "id": "f69eff2b",
      "metadata": {
        "id": "f69eff2b"
      },
      "source": [
        "\n",
        "## Exercise 9: Functions\n",
        "\n",
        "Functions allow you to organize and reuse code efficiently. They take input,\n",
        "process it, and return a result, making programs more modular and readable.\n",
        "\n",
        "💡 **Tip:** You can always consult ChatGPT to explain the code and help you with the task.\n",
        "\n",
        "### 🔹 Try This\n"
      ]
    },
    {
      "cell_type": "code",
      "execution_count": 142,
      "id": "c2200686",
      "metadata": {
        "id": "c2200686"
      },
      "outputs": [
        {
          "name": "stdout",
          "output_type": "stream",
          "text": [
            "Hello Alice\n"
          ]
        }
      ],
      "source": [
        "\n",
        "def greet(name):\n",
        "    return \"Hello \" + name\n",
        "print(greet(\"Alice\"))\n"
      ]
    },
    {
      "cell_type": "markdown",
      "id": "a8586b44",
      "metadata": {
        "id": "a8586b44"
      },
      "source": [
        "\n",
        "### 🎯 Task: Define a Function to Cube\n",
        "Write a function that takes a number and returns its cube.\n"
      ]
    },
    {
      "cell_type": "code",
      "execution_count": 143,
      "id": "7c9d4353",
      "metadata": {
        "id": "7c9d4353"
      },
      "outputs": [
        {
          "name": "stdout",
          "output_type": "stream",
          "text": [
            "The area of the rectangle is: 15\n"
          ]
        }
      ],
      "source": [
        "# Your code here\n",
        "# 🎯 Define a function to calculate the area of a rectangle\n",
        "def calculate_area(length, width):\n",
        "    return length * width\n",
        "\n",
        "# ✅ Call the function and print the result\n",
        "area = calculate_area(5, 3)\n",
        "print(\"The area of the rectangle is:\", area)\n",
        "\n"
      ]
    },
    {
      "cell_type": "markdown",
      "id": "823ead88",
      "metadata": {
        "id": "823ead88"
      },
      "source": [
        "\n",
        "## Exercise 10: Dictionaries\n",
        "\n",
        "Dictionaries store data in key-value pairs, allowing for efficient data retrieval.\n",
        "\n",
        "💡 **Tip:** You can always consult ChatGPT to explain the code and help you with the task.\n",
        "\n",
        "### 🔹 Try This\n"
      ]
    },
    {
      "cell_type": "code",
      "execution_count": 144,
      "id": "69cfbbcf",
      "metadata": {
        "id": "69cfbbcf"
      },
      "outputs": [
        {
          "name": "stdout",
          "output_type": "stream",
          "text": [
            "Alice\n"
          ]
        }
      ],
      "source": [
        "person = {\"name\": \"Alice\", \"age\": 25}\n",
        "print(person[\"name\"])\n"
      ]
    },
    {
      "cell_type": "markdown",
      "id": "6dbed777",
      "metadata": {
        "id": "6dbed777"
      },
      "source": [
        "\n",
        "### 🎯 Task: Access Dictionary Values\n",
        "Create a dictionary with three key-value pairs and print one of the keys.\n"
      ]
    },
    {
      "cell_type": "code",
      "execution_count": 145,
      "id": "413c5bff",
      "metadata": {
        "id": "413c5bff"
      },
      "outputs": [
        {
          "name": "stdout",
          "output_type": "stream",
          "text": [
            "Name: Alice\n",
            "Age: 25\n",
            "City: Vancouver\n"
          ]
        }
      ],
      "source": [
        "# Your code here\n",
        "# 🎯 Create a dictionary with person's information\n",
        "person = {\n",
        "    \"name\": \"Alice\",\n",
        "    \"age\": 25,\n",
        "    \"city\": \"Vancouver\"\n",
        "}\n",
        "\n",
        "# ✅ Access and print the person's name\n",
        "print(\"Name:\", person[\"name\"])\n",
        "\n",
        "# ✅ Access and print the person's age\n",
        "print(\"Age:\", person[\"age\"])\n",
        "\n",
        "# ✅ Access and print the person's city\n",
        "print(\"City:\", person[\"city\"])\n"
      ]
    },
    {
      "cell_type": "markdown",
      "id": "e2c335c5",
      "metadata": {
        "id": "e2c335c5"
      },
      "source": [
        "\n",
        "## Exercise 11: Sets\n",
        "\n",
        "Sets are collections of unique elements, useful for membership testing and eliminating duplicates.\n",
        "\n",
        "💡 **Tip:** You can always consult ChatGPT to explain the code and help you with the task.\n",
        "\n",
        "### 🔹 Try This\n"
      ]
    },
    {
      "cell_type": "code",
      "execution_count": 146,
      "id": "5397831e",
      "metadata": {
        "id": "5397831e"
      },
      "outputs": [
        {
          "name": "stdout",
          "output_type": "stream",
          "text": [
            "True\n"
          ]
        }
      ],
      "source": [
        "\n",
        "fruits = {\"apple\", \"banana\", \"cherry\"}\n",
        "print(\"apple\" in fruits)\n"
      ]
    },
    {
      "cell_type": "markdown",
      "id": "1082f712",
      "metadata": {
        "id": "1082f712"
      },
      "source": [
        "\n",
        "### 🎯 Task: Demonstrate Set Uniqueness\n",
        "Create a set of colors and demonstrate adding a duplicate color.\n"
      ]
    },
    {
      "cell_type": "code",
      "execution_count": 149,
      "id": "2ad9f35a",
      "metadata": {
        "id": "2ad9f35a"
      },
      "outputs": [
        {
          "name": "stdout",
          "output_type": "stream",
          "text": [
            "Apple is one of your favorite fruits. 🍎\n"
          ]
        }
      ],
      "source": [
        "# Your code here\n",
        "# 🎯 Create a set of favorite fruits\n",
        "favorite_fruits = {\"apple\", \"banana\", \"cherry\"}\n",
        "\n",
        "# ✅ Check if \"apple\" is in the set\n",
        "if \"apple\" in favorite_fruits:\n",
        "    print(\"Apple is one of your favorite fruits. 🍎\")\n",
        "\n",
        "# ✅ Check if \"orange\" is in the set\n",
        "if \"orange\" in favorite_fruits:\n",
        "    print(\"Orange is one of your favorite fruits. 🍊\")\n"
      ]
    },
    {
      "cell_type": "markdown",
      "id": "df3b3d8a",
      "metadata": {
        "id": "df3b3d8a"
      },
      "source": [
        "\n",
        "## Exercise 12: Tuples\n",
        "\n",
        "Tuples are immutable sequences, often used to store related data.\n",
        "\n",
        "💡 **Tip:** You can always consult ChatGPT to explain the code and help you with the task.\n",
        "\n",
        "### 🔹 Try This\n"
      ]
    },
    {
      "cell_type": "code",
      "execution_count": 150,
      "id": "3abde3bd",
      "metadata": {
        "id": "3abde3bd"
      },
      "outputs": [
        {
          "name": "stdout",
          "output_type": "stream",
          "text": [
            "10\n"
          ]
        }
      ],
      "source": [
        "\n",
        "coordinates = (10, 20)\n",
        "print(coordinates[0])\n"
      ]
    },
    {
      "cell_type": "markdown",
      "id": "6205f8bb",
      "metadata": {
        "id": "6205f8bb"
      },
      "source": [
        "\n",
        "### 🎯 Task: Access Tuple Elements\n",
        "Create a tuple with three elements and print the first one.\n"
      ]
    },
    {
      "cell_type": "code",
      "execution_count": 151,
      "id": "0a086022",
      "metadata": {
        "id": "0a086022"
      },
      "outputs": [
        {
          "name": "stdout",
          "output_type": "stream",
          "text": [
            "X-coordinate: 10\n",
            "Y-coordinate: 20\n"
          ]
        }
      ],
      "source": [
        "# Your code here\n",
        "# 🎯 Create a tuple with coordinates\n",
        "coordinates = (10, 20)\n",
        "\n",
        "# ✅ Access and print the first element\n",
        "print(\"X-coordinate:\", coordinates[0])\n",
        "\n",
        "# ✅ Access and print the second element\n",
        "print(\"Y-coordinate:\", coordinates[1])\n"
      ]
    },
    {
      "cell_type": "markdown",
      "id": "5d31ac02",
      "metadata": {
        "id": "5d31ac02"
      },
      "source": [
        "\n",
        "## Exercise 13: List Comprehensions\n",
        "\n",
        "List comprehensions provide a concise way to create lists.\n",
        "\n",
        "💡 **Tip:** You can always consult ChatGPT to explain the code and help you with the task.\n",
        "\n",
        "### 🔹 Try This\n"
      ]
    },
    {
      "cell_type": "code",
      "execution_count": 152,
      "id": "e47d95e8",
      "metadata": {
        "id": "e47d95e8"
      },
      "outputs": [
        {
          "name": "stdout",
          "output_type": "stream",
          "text": [
            "[0, 1, 4, 9, 16]\n"
          ]
        }
      ],
      "source": [
        "\n",
        "squares = [x**2 for x in range(5)]\n",
        "print(squares)\n"
      ]
    },
    {
      "cell_type": "markdown",
      "id": "fabf6072",
      "metadata": {
        "id": "fabf6072"
      },
      "source": [
        "\n",
        "### 🎯 Task: Create a List of Squares\n",
        "Create a list of squares of numbers from 0 to 4 using list comprehension.\n"
      ]
    },
    {
      "cell_type": "code",
      "execution_count": 153,
      "id": "af2b4fb4",
      "metadata": {
        "id": "af2b4fb4"
      },
      "outputs": [
        {
          "name": "stdout",
          "output_type": "stream",
          "text": [
            "Squares: [0, 1, 4, 9, 16]\n"
          ]
        }
      ],
      "source": [
        "# Your code here\n",
        "# 🎯 Create a list of squares of numbers from 0 to 4\n",
        "squares = [x**2 for x in range(5)]\n",
        "\n",
        "# ✅ Print the list of squares\n",
        "print(\"Squares:\", squares)\n"
      ]
    },
    {
      "cell_type": "markdown",
      "id": "b19d7210",
      "metadata": {
        "id": "b19d7210"
      },
      "source": [
        "\n",
        "## Exercise 14: File I/O\n",
        "\n",
        "Python can read from and write to files, enabling data persistence.\n",
        "\n",
        "💡 **Tip:** You can always consult ChatGPT to explain the code and help you with the task.\n",
        "\n",
        "### 🔹 Try This\n"
      ]
    },
    {
      "cell_type": "code",
      "execution_count": 154,
      "id": "8596489b",
      "metadata": {
        "id": "8596489b"
      },
      "outputs": [],
      "source": [
        "\n",
        "with open(\"example.txt\", \"w\") as file:\n",
        "    file.write(\"Hello, world!\")\n"
      ]
    },
    {
      "cell_type": "markdown",
      "id": "26ddf3ac",
      "metadata": {
        "id": "26ddf3ac"
      },
      "source": [
        "\n",
        "### 🎯 Task: Read from a File\n",
        "Write a program that reads a list of numbers from a file and prints them.\n"
      ]
    },
    {
      "cell_type": "code",
      "execution_count": 155,
      "id": "8bd2531d",
      "metadata": {
        "id": "8bd2531d"
      },
      "outputs": [
        {
          "name": "stdout",
          "output_type": "stream",
          "text": [
            "File content: Hello, world!\n"
          ]
        }
      ],
      "source": [
        "# Your code here\n",
        "# 🎯 Read from the file\n",
        "with open(\"example.txt\", \"r\") as file:\n",
        "    content = file.read()\n",
        "\n",
        "# ✅ Print the file content\n",
        "print(\"File content:\", content)\n",
        "\n",
        "\n"
      ]
    },
    {
      "cell_type": "markdown",
      "id": "50830783",
      "metadata": {
        "id": "50830783"
      },
      "source": [
        "\n",
        "## Exercise 15: Exception Handling\n",
        "\n",
        "Exception handling allows you to manage errors gracefully.\n",
        "\n",
        "💡 **Tip:** You can always consult ChatGPT to explain the code and help you with the task.\n",
        "\n",
        "### 🔹 Try This\n"
      ]
    },
    {
      "cell_type": "code",
      "execution_count": 156,
      "id": "320be654",
      "metadata": {
        "id": "320be654"
      },
      "outputs": [
        {
          "name": "stdout",
          "output_type": "stream",
          "text": [
            "Cannot divide by zero\n"
          ]
        }
      ],
      "source": [
        "\n",
        "try:\n",
        "    result = 10 / 0\n",
        "except ZeroDivisionError:\n",
        "    print(\"Cannot divide by zero\")\n"
      ]
    },
    {
      "cell_type": "markdown",
      "id": "f323909e",
      "metadata": {
        "id": "f323909e"
      },
      "source": [
        "\n",
        "### 🎯 Task: Handle a ValueError\n",
        "Write a program that handles a ValueError when converting a string to an integer.\n"
      ]
    },
    {
      "cell_type": "code",
      "execution_count": 158,
      "id": "33d6f5eb",
      "metadata": {
        "id": "33d6f5eb"
      },
      "outputs": [
        {
          "name": "stdout",
          "output_type": "stream",
          "text": [
            "❌ Error: Please enter a valid integer.\n"
          ]
        }
      ],
      "source": [
        "# Your code here\n",
        "# 🎯 Handle ValueError when converting a string to an integer\n",
        "try:\n",
        "    user_input = input(\"Enter a number: \")  # Get user input\n",
        "    number = int(user_input)  # Try converting to integer\n",
        "    print(\"You entered:\", number)\n",
        "except ValueError:\n",
        "    print(\"❌ Error: Please enter a valid integer.\")\n",
        "\n"
      ]
    },
    {
      "cell_type": "markdown",
      "id": "31de0085",
      "metadata": {
        "id": "31de0085"
      },
      "source": [
        "\n",
        "## Exercise 16: NumPy Basics\n",
        "\n",
        "NumPy is a powerful library for numerical computations.\n",
        "\n",
        "💡 **Tip:** You can always consult ChatGPT to explain the code and help you with the task.\n",
        "\n",
        "### 🔹 Try This\n"
      ]
    },
    {
      "cell_type": "code",
      "execution_count": 159,
      "id": "38667132",
      "metadata": {
        "id": "38667132"
      },
      "outputs": [
        {
          "name": "stdout",
          "output_type": "stream",
          "text": [
            "[2 3 4]\n"
          ]
        }
      ],
      "source": [
        "import numpy as np\n",
        "array = np.array([1, 2, 3])\n",
        "print(array + 1)\n"
      ]
    },
    {
      "cell_type": "markdown",
      "id": "11c5fafc",
      "metadata": {
        "id": "11c5fafc"
      },
      "source": [
        "\n",
        "### 🎯 Task: Perform Array Operations\n",
        "Create a NumPy array and perform a subtraction operation on it.\n"
      ]
    },
    {
      "cell_type": "code",
      "execution_count": 160,
      "id": "b6d7f357",
      "metadata": {
        "id": "b6d7f357"
      },
      "outputs": [
        {
          "name": "stdout",
          "output_type": "stream",
          "text": [
            "Original array: [10 20 30 40 50]\n",
            "After subtraction: [ 5 15 25 35 45]\n"
          ]
        }
      ],
      "source": [
        "# Your code here\n",
        "# 🎯 Import NumPy\n",
        "import numpy as np\n",
        "\n",
        "# ✅ Create a NumPy array\n",
        "arr = np.array([10, 20, 30, 40, 50])\n",
        "\n",
        "# ➖ Subtract 5 from each element\n",
        "result = arr - 5\n",
        "\n",
        "# 🔢 Print the result\n",
        "print(\"Original array:\", arr)\n",
        "print(\"After subtraction:\", result)\n"
      ]
    },
    {
      "cell_type": "markdown",
      "id": "cc107c37",
      "metadata": {
        "id": "cc107c37"
      },
      "source": [
        "\n",
        "## Exercise 17: Matplotlib Basics\n",
        "\n",
        "Matplotlib is a library for creating static, interactive, and animated visualizations.\n",
        "\n",
        "💡 **Tip:** You can always consult ChatGPT to explain the code and help you with the task.\n",
        "\n",
        "### 🔹 Try This\n",
        "Plotting with Matplotlib:\n"
      ]
    },
    {
      "cell_type": "code",
      "execution_count": 96,
      "id": "03cb414c",
      "metadata": {
        "id": "03cb414c"
      },
      "outputs": [
        {
          "data": {
            "image/png": "[encoded data removed]",
            "text/plain": [
              "<Figure size 640x480 with 1 Axes>"
            ]
          },
          "metadata": {},
          "output_type": "display_data"
        }
      ],
      "source": [
        "\n",
        "import matplotlib.pyplot as plt\n",
        "plt.plot([1, 2, 3], [4, 5, 6])\n",
        "plt.show()\n"
      ]
    },
    {
      "cell_type": "markdown",
      "id": "54b7131d",
      "metadata": {
        "id": "54b7131d"
      },
      "source": [
        "\n",
        "### 🎯 Task: Plot a Bar Graph\n",
        "Use Matplotlib to plot a simple bar graph.\n"
      ]
    },
    {
      "cell_type": "code",
      "execution_count": 161,
      "id": "ff401782",
      "metadata": {
        "id": "ff401782"
      },
      "outputs": [
        {
          "data": {
            "image/png": "[encoded data removed]",
            "text/plain": [
              "<Figure size 640x480 with 1 Axes>"
            ]
          },
          "metadata": {},
          "output_type": "display_data"
        }
      ],
      "source": [
        "# Your code here\n",
        "# 🎯 Import Matplotlib\n",
        "import matplotlib.pyplot as plt\n",
        "\n",
        "# ✅ Data for the bar graph\n",
        "categories = [\"Apples\", \"Bananas\", \"Cherries\", \"Dates\", \"Elderberries\"]\n",
        "values = [10, 25, 15, 30, 20]  # Example values\n",
        "\n",
        "# 📊 Create the bar graph\n",
        "plt.bar(categories, values, color='skyblue')\n",
        "\n",
        "# 🎨 Customize the plot\n",
        "plt.xlabel(\"Fruits\")\n",
        "plt.ylabel(\"Quantity\")\n",
        "plt.title(\"Fruit Quantities in Stock\")\n",
        "plt.show()  # Display the graph\n"
      ]
    },
    {
      "cell_type": "markdown",
      "id": "364e4e8f",
      "metadata": {
        "id": "364e4e8f"
      },
      "source": [
        "\n",
        "## Exercise 18: Pandas Basics\n",
        "\n",
        "Pandas is a library for data manipulation and analysis.\n",
        "\n",
        "💡 **Tip:** You can always consult ChatGPT to explain the code and help you with the task.\n",
        "\n",
        "### 🔹 Try This\n",
        "Data manipulation with Pandas:\n"
      ]
    },
    {
      "cell_type": "code",
      "execution_count": 162,
      "id": "e51ca7b3",
      "metadata": {
        "id": "e51ca7b3"
      },
      "outputs": [
        {
          "name": "stdout",
          "output_type": "stream",
          "text": [
            "    Name  Age\n",
            "0  Alice   25\n",
            "1    Bob   30\n"
          ]
        }
      ],
      "source": [
        "import pandas as pd\n",
        "data = {'Name': ['Alice', 'Bob'], 'Age': [25, 30]}\n",
        "df = pd.DataFrame(data)\n",
        "print(df)\n"
      ]
    },
    {
      "cell_type": "markdown",
      "id": "be32d312",
      "metadata": {
        "id": "be32d312"
      },
      "source": [
        "\n",
        "### 🎯 Task: Manipulate a DataFrame\n",
        "Create a Pandas DataFrame and add a new column to it.\n"
      ]
    },
    {
      "cell_type": "code",
      "execution_count": 163,
      "id": "eeea8e8e",
      "metadata": {
        "id": "eeea8e8e"
      },
      "outputs": [
        {
          "name": "stdout",
          "output_type": "stream",
          "text": [
            "      Name  Age         City\n",
            "0    Alice   25     New York\n",
            "1      Bob   30  Los Angeles\n",
            "2  Charlie   35      Chicago\n"
          ]
        }
      ],
      "source": [
        "# Your code here\n",
        "# 🎯 Import Pandas\n",
        "import pandas as pd\n",
        "\n",
        "# ✅ Create a DataFrame\n",
        "data = {\n",
        "    \"Name\": [\"Alice\", \"Bob\", \"Charlie\"],\n",
        "    \"Age\": [25, 30, 35]\n",
        "}\n",
        "df = pd.DataFrame(data)\n",
        "\n",
        "# ➕ Add a new column \"City\"\n",
        "df[\"City\"] = [\"New York\", \"Los Angeles\", \"Chicago\"]\n",
        "\n",
        "# 🔢 Print the updated DataFrame\n",
        "print(df)\n"
      ]
    },
    {
      "cell_type": "markdown",
      "id": "6986da61",
      "metadata": {
        "id": "6986da61"
      },
      "source": [
        "\n",
        "## Exercise 19: Random Module\n",
        "\n",
        "The random module is used to generate random numbers.\n",
        "\n",
        "💡 **Tip:** You can always consult ChatGPT to explain the code and help you with the task.\n",
        "\n",
        "### 🔹 Try This\n",
        "Generate random numbers:\n"
      ]
    },
    {
      "cell_type": "code",
      "execution_count": 164,
      "id": "461e1b5a",
      "metadata": {
        "id": "461e1b5a"
      },
      "outputs": [
        {
          "name": "stdout",
          "output_type": "stream",
          "text": [
            "6\n"
          ]
        }
      ],
      "source": [
        "\n",
        "import random\n",
        "print(random.randint(1, 10))\n"
      ]
    },
    {
      "cell_type": "markdown",
      "id": "02d041dd",
      "metadata": {
        "id": "02d041dd"
      },
      "source": [
        "### 🎯 Task: Generate a Random Float\n",
        "Write a program that generates a random float between 0 and 1.\n"
      ]
    },
    {
      "cell_type": "code",
      "execution_count": 165,
      "id": "fd53d302",
      "metadata": {
        "id": "fd53d302"
      },
      "outputs": [
        {
          "name": "stdout",
          "output_type": "stream",
          "text": [
            "Random float: 0.404894416286083\n"
          ]
        }
      ],
      "source": [
        "# Your code here\n",
        "# 🎯 Import the random module\n",
        "import random\n",
        "\n",
        "# ✅ Generate a random float between 0 and 1\n",
        "random_float = random.random()\n",
        "\n",
        "# 🔢 Print the result\n",
        "print(\"Random float:\", random_float)\n"
      ]
    },
    {
      "cell_type": "markdown",
      "id": "accef9b7",
      "metadata": {
        "id": "accef9b7"
      },
      "source": [
        "\n",
        "## Exercise 20: Time Module\n",
        "\n",
        "The time module provides various time-related functions.\n",
        "\n",
        "💡 **Tip:** You can always consult ChatGPT to explain the code and help you with the task.\n",
        "\n",
        "### 🔹 Try This\n",
        "Use the time module:\n"
      ]
    },
    {
      "cell_type": "code",
      "execution_count": 166,
      "id": "4f858f3b",
      "metadata": {
        "id": "4f858f3b"
      },
      "outputs": [
        {
          "name": "stdout",
          "output_type": "stream",
          "text": [
            "Sat Mar  1 18:06:40 2025\n"
          ]
        }
      ],
      "source": [
        "\n",
        "import time\n",
        "print(time.ctime())\n"
      ]
    },
    {
      "cell_type": "markdown",
      "id": "42e0ff38",
      "metadata": {
        "id": "42e0ff38"
      },
      "source": [
        "### 🎯 Task: Delay Execution\n",
        "Write a program that delays execution for 2 seconds and then prints a message.\n"
      ]
    },
    {
      "cell_type": "code",
      "execution_count": 167,
      "id": "532346a6",
      "metadata": {
        "id": "532346a6"
      },
      "outputs": [
        {
          "name": "stdout",
          "output_type": "stream",
          "text": [
            "✅ Execution resumed after 2 seconds!\n"
          ]
        }
      ],
      "source": [
        "# Your code here\n",
        "# 🎯 Import the time module\n",
        "import time\n",
        "\n",
        "# ⏳ Delay execution for 2 seconds\n",
        "time.sleep(2)\n",
        "\n",
        "# ✅ Print the message\n",
        "print(\"✅ Execution resumed after 2 seconds!\")\n"
      ]
    },
    {
      "cell_type": "markdown",
      "id": "4f71aecb",
      "metadata": {
        "id": "4f71aecb"
      },
      "source": [
        "\n",
        "## Exercise 21: Function with Multiple Parameters\n",
        "\n",
        "Functions can take multiple parameters to perform operations on them.\n",
        "\n",
        "💡 **Tip:** You can always consult ChatGPT to explain the code and help you with the task.\n",
        "\n",
        "### 🔹 Try This\n",
        "Define a function with multiple parameters:\n"
      ]
    },
    {
      "cell_type": "code",
      "execution_count": 168,
      "id": "51c64c69",
      "metadata": {
        "id": "51c64c69"
      },
      "outputs": [
        {
          "name": "stdout",
          "output_type": "stream",
          "text": [
            "7\n"
          ]
        }
      ],
      "source": [
        "def add(a, b):\n",
        "    return a + b\n",
        "print(add(3, 4))\n"
      ]
    },
    {
      "cell_type": "markdown",
      "id": "256799d8",
      "metadata": {
        "id": "256799d8"
      },
      "source": [
        "### 🎯 Task: Create a Function to Multiply\n",
        "Write a function that takes two numbers and returns their product.\n"
      ]
    },
    {
      "cell_type": "code",
      "execution_count": 169,
      "id": "a9c54252",
      "metadata": {
        "id": "a9c54252"
      },
      "outputs": [
        {
          "name": "stdout",
          "output_type": "stream",
          "text": [
            "Product: 20\n"
          ]
        }
      ],
      "source": [
        "# Your code here\n",
        "# 🎯 Define the function\n",
        "def multiply(a, b):\n",
        "    return a * b  # ✅ Returns the product\n",
        "\n",
        "# 🔢 Test the function\n",
        "result = multiply(4, 5)\n",
        "print(\"Product:\", result)\n"
      ]
    },
    {
      "cell_type": "markdown",
      "id": "9a0e0f80",
      "metadata": {
        "id": "9a0e0f80"
      },
      "source": [
        "\n",
        "## Exercise 22: Default Parameters\n",
        "\n",
        "Functions can have default parameter values, which are used if no argument is provided.\n",
        "\n",
        "💡 **Tip:** You can always consult ChatGPT to explain the code and help you with the task.\n",
        "\n",
        "### 🔹 Try This\n",
        "Define a function with a default parameter:\n"
      ]
    },
    {
      "cell_type": "code",
      "execution_count": 106,
      "id": "9455e09e",
      "metadata": {
        "id": "9455e09e"
      },
      "outputs": [
        {
          "name": "stdout",
          "output_type": "stream",
          "text": [
            "Hello Guest\n"
          ]
        }
      ],
      "source": [
        "def greet(name=\"Guest\"):\n",
        "    return \"Hello \" + name\n",
        "print(greet())\n"
      ]
    },
    {
      "cell_type": "markdown",
      "id": "e332d3f3",
      "metadata": {
        "id": "e332d3f3"
      },
      "source": [
        "\n",
        "### 🎯 Task: Create a Function with Default Value\n",
        "Write a function that greets a user with a default name if no name is provided.\n"
      ]
    },
    {
      "cell_type": "code",
      "execution_count": 170,
      "id": "fe8f424e",
      "metadata": {
        "id": "fe8f424e"
      },
      "outputs": [
        {
          "name": "stdout",
          "output_type": "stream",
          "text": [
            "Hello, Guest! 👋\n",
            "Hello, Alice! 👋\n"
          ]
        }
      ],
      "source": [
        "# Your code here\n",
        "# 🎯 Define the function with a default value\n",
        "def greet(name=\"Guest\"):\n",
        "    print(f\"Hello, {name}! 👋\")\n",
        "\n",
        "# ✅ Test the function\n",
        "greet()         # Uses the default value \"Guest\"\n",
        "greet(\"Alice\")  # Uses the provided name\n"
      ]
    },
    {
      "cell_type": "markdown",
      "id": "d912c66f",
      "metadata": {
        "id": "d912c66f"
      },
      "source": [
        "\n",
        "## Exercise 23: Return Multiple Values\n",
        "\n",
        "Functions can return multiple values using tuples.\n",
        "\n",
        "💡 **Tip:** You can always consult ChatGPT to explain the code and help you with the task.\n",
        "\n",
        "### 🔹 Try This\n",
        "Return multiple values from a function:\n"
      ]
    },
    {
      "cell_type": "code",
      "execution_count": 108,
      "id": "47f946a2",
      "metadata": {
        "id": "47f946a2"
      },
      "outputs": [
        {
          "name": "stdout",
          "output_type": "stream",
          "text": [
            "10 20\n"
          ]
        }
      ],
      "source": [
        "def get_coordinates():\n",
        "    return (10, 20)\n",
        "x, y = get_coordinates()\n",
        "print(x, y)\n"
      ]
    },
    {
      "cell_type": "markdown",
      "id": "18f51e49",
      "metadata": {
        "id": "18f51e49"
      },
      "source": [
        "### 🎯 Task: Create a Function to Return Multiple Values\n",
        "Write a function that returns the sum and product of two numbers.\n"
      ]
    },
    {
      "cell_type": "code",
      "execution_count": 171,
      "id": "a6e6fb82",
      "metadata": {
        "id": "a6e6fb82"
      },
      "outputs": [
        {
          "name": "stdout",
          "output_type": "stream",
          "text": [
            "Sum: 9\n",
            "Product: 20\n"
          ]
        }
      ],
      "source": [
        "# Your code here\n",
        "# 🎯 Define the function\n",
        "def calculate_sum_and_product(a, b):\n",
        "    return a + b, a * b  # ✅ Returns both sum and product as a tuple\n",
        "\n",
        "# 🔢 Test the function\n",
        "sum_result, product_result = calculate_sum_and_product(4, 5)\n",
        "\n",
        "# 📢 Print the results\n",
        "print(\"Sum:\", sum_result)\n",
        "print(\"Product:\", product_result)\n",
        "\n"
      ]
    },
    {
      "cell_type": "markdown",
      "id": "c42582a5",
      "metadata": {
        "id": "c42582a5"
      },
      "source": [
        "\n",
        "## Exercise 24: Recursive Functions\n",
        "\n",
        "A recursive function is a function that calls itself to solve a problem.\n",
        "\n",
        "💡 **Tip:** You can always consult ChatGPT to explain the code and help you with the task.\n",
        "\n",
        "### 🔹 Try This\n",
        "Define a recursive function:\n"
      ]
    },
    {
      "cell_type": "code",
      "execution_count": 172,
      "id": "6660ef54",
      "metadata": {
        "id": "6660ef54"
      },
      "outputs": [
        {
          "name": "stdout",
          "output_type": "stream",
          "text": [
            "120\n"
          ]
        }
      ],
      "source": [
        "def factorial(n):\n",
        "    if n == 0:\n",
        "        return 1\n",
        "    else:\n",
        "        return n * factorial(n-1)\n",
        "print(factorial(5))\n"
      ]
    },
    {
      "cell_type": "markdown",
      "id": "8464a1e2",
      "metadata": {
        "id": "8464a1e2"
      },
      "source": [
        "### 🎯 Task: Create a Recursive Function\n",
        "Write a recursive function to calculate the Fibonacci sequence."
      ]
    },
    {
      "cell_type": "code",
      "execution_count": 173,
      "id": "9a28c9f8",
      "metadata": {
        "id": "9a28c9f8"
      },
      "outputs": [
        {
          "name": "stdout",
          "output_type": "stream",
          "text": [
            "Fibonacci(7) = 8\n"
          ]
        }
      ],
      "source": [
        "# Your code here\n",
        "# 🎯 Define the recursive Fibonacci function\n",
        "def fibonacci(n):\n",
        "    if n <= 0:\n",
        "        return \"Input must be a positive integer.\"\n",
        "    elif n == 1:\n",
        "        return 0\n",
        "    elif n == 2:\n",
        "        return 1\n",
        "    else:\n",
        "        return fibonacci(n - 1) + fibonacci(n - 2)  # Recursive call\n",
        "\n",
        "# 🔢 Test the function\n",
        "n = 7  # Change this value to get a different Fibonacci number\n",
        "print(f\"Fibonacci({n}) =\", fibonacci(n))\n",
        "\n"
      ]
    },
    {
      "cell_type": "markdown",
      "id": "ef86ce19",
      "metadata": {
        "id": "ef86ce19"
      },
      "source": [
        "\n",
        "## Exercise 25: Lambda Functions\n",
        "\n",
        "Lambda functions are small anonymous functions defined with the `lambda` keyword.\n",
        "\n",
        "💡 **Tip:** You can always consult ChatGPT to explain the code and help you with the task.\n",
        "\n",
        "### 🔹 Try This\n",
        "Define a lambda function:\n"
      ]
    },
    {
      "cell_type": "code",
      "execution_count": 174,
      "id": "c8060075",
      "metadata": {
        "id": "c8060075"
      },
      "outputs": [
        {
          "name": "stdout",
          "output_type": "stream",
          "text": [
            "25\n"
          ]
        }
      ],
      "source": [
        "square = lambda x: x * x\n",
        "print(square(5))"
      ]
    },
    {
      "cell_type": "markdown",
      "id": "5ae8e66f",
      "metadata": {
        "id": "5ae8e66f"
      },
      "source": [
        "\n",
        "### 🎯 Task: Create a Lambda Function\n",
        "Write a lambda function to add two numbers.\n"
      ]
    },
    {
      "cell_type": "code",
      "execution_count": 175,
      "id": "eb80773f",
      "metadata": {
        "id": "eb80773f"
      },
      "outputs": [
        {
          "name": "stdout",
          "output_type": "stream",
          "text": [
            "Sum: 8\n"
          ]
        }
      ],
      "source": [
        "# Your code here\n",
        "add = lambda a, b: a + b\n",
        "\n",
        "# Test the lambda function\n",
        "result = add(5, 3)\n",
        "print(\"Sum:\", result)"
      ]
    },
    {
      "cell_type": "markdown",
      "id": "0f04ed47",
      "metadata": {
        "id": "0f04ed47"
      },
      "source": [
        "\n",
        "## Exercise 26: DataFrame Filtering\n",
        "\n",
        "Filtering allows you to select specific rows based on conditions.\n",
        "\n",
        "💡 **Tip:** You can always consult ChatGPT to explain the code and help you with the task.\n",
        "\n",
        "### 🔹 Try This\n",
        "Filter a DataFrame:\n"
      ]
    },
    {
      "cell_type": "code",
      "execution_count": 176,
      "id": "5cb68e11",
      "metadata": {
        "id": "5cb68e11"
      },
      "outputs": [
        {
          "name": "stdout",
          "output_type": "stream",
          "text": [
            "      Name  Age\n",
            "2  Charlie   35\n"
          ]
        }
      ],
      "source": [
        "import pandas as pd\n",
        "data = {'Name': ['Alice', 'Bob', 'Charlie'], 'Age': [25, 30, 35]}\n",
        "df = pd.DataFrame(data)\n",
        "filtered_df = df[df['Age'] > 30]\n",
        "print(filtered_df)\n"
      ]
    },
    {
      "cell_type": "markdown",
      "id": "2c7e2555",
      "metadata": {
        "id": "2c7e2555"
      },
      "source": [
        "\n",
        "### 🎯 Task: Filter DataFrame by Multiple Conditions\n",
        "Create a DataFrame with columns for 'Name', 'Age', and 'City'. Filter the DataFrame to show only rows where 'Age' is greater than 25 and 'City' is 'New York'.\n"
      ]
    },
    {
      "cell_type": "code",
      "execution_count": 177,
      "id": "6a2673da",
      "metadata": {
        "id": "6a2673da"
      },
      "outputs": [
        {
          "name": "stdout",
          "output_type": "stream",
          "text": [
            "      Name  Age\n",
            "2  Charlie   35\n"
          ]
        }
      ],
      "source": [
        "# Your code here\n",
        "# 🎯 Import Pandas\n",
        "import pandas as pd\n",
        "\n",
        "# ✅ Create a DataFrame\n",
        "data = {\n",
        "    \"Name\": [\"Alice\", \"Bob\", \"Charlie\"],\n",
        "    \"Age\": [25, 30, 35]\n",
        "}\n",
        "df = pd.DataFrame(data)\n",
        "\n",
        "# ➕ Filter rows where Age is greater than 30\n",
        "filtered_df = df[df[\"Age\"] > 30]\n",
        "\n",
        "# 🔢 Print the filtered DataFrame\n",
        "print(filtered_df)\n"
      ]
    },
    {
      "cell_type": "markdown",
      "id": "7d2bbb9a",
      "metadata": {
        "id": "7d2bbb9a"
      },
      "source": [
        "\n",
        "## Exercise 27: Grouping and Aggregation\n",
        "\n",
        "Grouping and aggregation allow you to summarize data.\n",
        "\n",
        "💡 **Tip:** You can always consult ChatGPT to explain the code and help you with the task.\n",
        "\n",
        "### 🔹 Try This\n",
        "Group and aggregate data:\n"
      ]
    },
    {
      "cell_type": "code",
      "execution_count": 116,
      "id": "2575d368",
      "metadata": {
        "id": "2575d368"
      },
      "outputs": [
        {
          "name": "stdout",
          "output_type": "stream",
          "text": [
            "       Score\n",
            "Name        \n",
            "Alice   90.0\n",
            "Bob     90.0\n"
          ]
        }
      ],
      "source": [
        "import pandas as pd\n",
        "data = {'Name': ['Alice', 'Bob', 'Alice'], 'Score': [85, 90, 95]}\n",
        "df = pd.DataFrame(data)\n",
        "grouped = df.groupby('Name').mean()\n",
        "print(grouped)\n"
      ]
    },
    {
      "cell_type": "markdown",
      "id": "8f5835f2",
      "metadata": {
        "id": "8f5835f2"
      },
      "source": [
        "\n",
        "### 🎯 Task: Group and Aggregate with Multiple Functions\n",
        "Create a DataFrame with 'Name', 'Score', and 'Attempts'. Group by 'Name' and calculate both the mean and sum of 'Score' for each group.\n"
      ]
    },
    {
      "cell_type": "code",
      "execution_count": 178,
      "id": "b37104d4",
      "metadata": {
        "id": "b37104d4"
      },
      "outputs": [
        {
          "name": "stdout",
          "output_type": "stream",
          "text": [
            "         mean  sum\n",
            "Name              \n",
            "Alice    81.5  163\n",
            "Bob      89.0  178\n",
            "Charlie  83.5  167\n"
          ]
        }
      ],
      "source": [
        "# Your code here\n",
        "import pandas as pd\n",
        "\n",
        "# ✅ Create a DataFrame\n",
        "data = {\n",
        "    \"Name\": [\"Alice\", \"Bob\", \"Alice\", \"Bob\", \"Charlie\", \"Charlie\"],\n",
        "    \"Score\": [85, 90, 78, 88, 92, 75],\n",
        "    \"Attempts\": [1, 2, 2, 1, 3, 2]\n",
        "}\n",
        "df = pd.DataFrame(data)\n",
        "\n",
        "# 📊 Group by 'Name' and aggregate 'Score' with mean & sum\n",
        "grouped_df = df.groupby(\"Name\")[\"Score\"].agg([\"mean\", \"sum\"])\n",
        "\n",
        "# 🔢 Print the result\n",
        "print(grouped_df)\n",
        "\n"
      ]
    },
    {
      "cell_type": "markdown",
      "id": "f4d0e5a4",
      "metadata": {
        "id": "f4d0e5a4"
      },
      "source": [
        "\n",
        "## Exercise 28: DataFrame Merging\n",
        "\n",
        "Merging combines data from multiple DataFrames.\n",
        "\n",
        "💡 **Tip:** You can always consult ChatGPT to explain the code and help you with the task.\n",
        "\n",
        "### 🔹 Try This\n",
        "Merge DataFrames:\n"
      ]
    },
    {
      "cell_type": "code",
      "execution_count": 118,
      "id": "494ccbf0",
      "metadata": {
        "id": "494ccbf0"
      },
      "outputs": [
        {
          "name": "stdout",
          "output_type": "stream",
          "text": [
            "    Name  Age  Score\n",
            "0  Alice   25     85\n",
            "1    Bob   30     90\n"
          ]
        }
      ],
      "source": [
        "import pandas as pd\n",
        "df1 = pd.DataFrame({'Name': ['Alice', 'Bob'], 'Age': [25, 30]})\n",
        "df2 = pd.DataFrame({'Name': ['Alice', 'Bob'], 'Score': [85, 90]})\n",
        "merged_df = pd.merge(df1, df2, on='Name')\n",
        "print(merged_df)\n"
      ]
    },
    {
      "cell_type": "markdown",
      "id": "5ca45fd9",
      "metadata": {
        "id": "5ca45fd9"
      },
      "source": [
        "### 🎯 Task: Merge with Different Join Types\n",
        "Create two DataFrames with some overlapping and some unique 'Name' entries. Merge them using an outer join and display the result.\n"
      ]
    },
    {
      "cell_type": "code",
      "execution_count": 179,
      "id": "b873921d",
      "metadata": {
        "id": "b873921d"
      },
      "outputs": [
        {
          "name": "stdout",
          "output_type": "stream",
          "text": [
            "      Name  Score  Attempts\n",
            "0    Alice   85.0       NaN\n",
            "1      Bob   90.0       2.0\n",
            "2  Charlie   78.0       3.0\n",
            "3    David    NaN       1.0\n"
          ]
        }
      ],
      "source": [
        "# Your code here\n",
        "import pandas as pd\n",
        "\n",
        "# ✅ Create the first DataFrame\n",
        "df1 = pd.DataFrame({\n",
        "    \"Name\": [\"Alice\", \"Bob\", \"Charlie\"],\n",
        "    \"Score\": [85, 90, 78]\n",
        "})\n",
        "\n",
        "# ✅ Create the second DataFrame\n",
        "df2 = pd.DataFrame({\n",
        "    \"Name\": [\"Bob\", \"Charlie\", \"David\"],\n",
        "    \"Attempts\": [2, 3, 1]\n",
        "})\n",
        "\n",
        "# 🔗 Merge using an outer join (keeps all unique 'Name' entries)\n",
        "merged_df = pd.merge(df1, df2, on=\"Name\", how=\"outer\")\n",
        "\n",
        "# 📊 Print the result\n",
        "print(merged_df)\n",
        "\n"
      ]
    },
    {
      "cell_type": "markdown",
      "id": "a92b4074",
      "metadata": {
        "id": "a92b4074"
      },
      "source": [
        "\n",
        "## Exercise 29: Plotting with Pandas\n",
        "\n",
        "Pandas can be used to plot data directly.\n",
        "\n",
        "💡 **Tip:** You can always consult ChatGPT to explain the code and help you with the task.\n",
        "\n",
        "### 🔹 Try This\n",
        "Plot data with Pandas:\n"
      ]
    },
    {
      "cell_type": "code",
      "execution_count": 180,
      "id": "cbde2b26",
      "metadata": {
        "id": "cbde2b26"
      },
      "outputs": [
        {
          "data": {
            "image/png": "[encoded data removed]",
            "text/plain": [
              "<Figure size 640x480 with 1 Axes>"
            ]
          },
          "metadata": {},
          "output_type": "display_data"
        }
      ],
      "source": [
        "import pandas as pd\n",
        "import matplotlib.pyplot as plt\n",
        "data = {'Year': [2010, 2011, 2012], 'Sales': [200, 250, 300]}\n",
        "df = pd.DataFrame(data)\n",
        "df.plot(x='Year', y='Sales', kind='line')\n",
        "plt.show()\n"
      ]
    },
    {
      "cell_type": "markdown",
      "id": "b52363f8",
      "metadata": {
        "id": "b52363f8"
      },
      "source": [
        "### 🎯 Task: Plot Multiple Lines\n",
        "Create a DataFrame with 'Year', 'Product_A_Sales', and 'Product_B_Sales'. Plot both sales lines on the same graph with different colors.\n"
      ]
    },
    {
      "cell_type": "code",
      "execution_count": 181,
      "id": "4da63c97",
      "metadata": {
        "id": "4da63c97"
      },
      "outputs": [
        {
          "data": {
            "image/png": "[encoded data removed]",
            "text/plain": [
              "<Figure size 640x480 with 1 Axes>"
            ]
          },
          "metadata": {},
          "output_type": "display_data"
        }
      ],
      "source": [
        "# Your code here\n",
        "import pandas as pd\n",
        "import matplotlib.pyplot as plt\n",
        "\n",
        "# ✅ Create a DataFrame\n",
        "data = {\n",
        "    \"Year\": [2020, 2021, 2022, 2023, 2024],\n",
        "    \"Product_A_Sales\": [500, 700, 800, 850, 900],\n",
        "    \"Product_B_Sales\": [300, 400, 650, 700, 750]\n",
        "}\n",
        "df = pd.DataFrame(data)\n",
        "\n",
        "# 📊 Plot both sales lines\n",
        "plt.plot(df[\"Year\"], df[\"Product_A_Sales\"], marker=\"o\", linestyle=\"-\", color=\"blue\", label=\"Product A Sales\")\n",
        "plt.plot(df[\"Year\"], df[\"Product_B_Sales\"], marker=\"s\", linestyle=\"--\", color=\"red\", label=\"Product B Sales\")\n",
        "\n",
        "# 🎨 Customize the plot\n",
        "plt.xlabel(\"Year\")\n",
        "plt.ylabel(\"Sales\")\n",
        "plt.title(\"Product Sales Over Years\")\n",
        "plt.legend()\n",
        "plt.grid(True)\n",
        "\n",
        "# 📈 Show the graph\n",
        "plt.show()\n"
      ]
    },
    {
      "cell_type": "markdown",
      "id": "7dd666b7",
      "metadata": {
        "id": "7dd666b7"
      },
      "source": [
        "\n",
        "## Exercise 30: Advanced Plotting with Matplotlib\n",
        "\n",
        "Create complex plots using Matplotlib.\n",
        "\n",
        "💡 **Tip:** You can always consult ChatGPT to explain the code and help you with the task.\n",
        "\n",
        "### 🔹 Try This\n",
        "Create a subplot:\n"
      ]
    },
    {
      "cell_type": "code",
      "execution_count": 182,
      "id": "604e7bf3",
      "metadata": {
        "id": "604e7bf3"
      },
      "outputs": [
        {
          "data": {
            "image/png": "[encoded data removed]",
            "text/plain": [
              "<Figure size 640x480 with 2 Axes>"
            ]
          },
          "metadata": {},
          "output_type": "display_data"
        }
      ],
      "source": [
        "import matplotlib.pyplot as plt\n",
        "fig, axs = plt.subplots(2)\n",
        "axs[0].plot([1, 2, 3], [4, 5, 6])\n",
        "axs[1].bar([1, 2, 3], [4, 5, 6])\n",
        "plt.show()\n"
      ]
    },
    {
      "cell_type": "markdown",
      "id": "d6a7a482",
      "metadata": {
        "id": "d6a7a482"
      },
      "source": [
        "### 🎯 Task: Create a Complex Subplot\n",
        "Use Matplotlib to create a 2x2 subplot grid. Include a line plot, a bar plot, a scatter plot, and a histogram, each in a different subplot.\n"
      ]
    },
    {
      "cell_type": "code",
      "execution_count": 183,
      "id": "92291bfd",
      "metadata": {
        "id": "92291bfd"
      },
      "outputs": [
        {
          "data": {
            "image/png": "[encoded data removed]",
            "text/plain": [
              "<Figure size 1000x800 with 4 Axes>"
            ]
          },
          "metadata": {},
          "output_type": "display_data"
        }
      ],
      "source": [
        "# Your code here\n",
        "# 🎯 Import necessary libraries\n",
        "import matplotlib.pyplot as plt\n",
        "import numpy as np\n",
        "\n",
        "# ✅ Generate sample data\n",
        "x = np.arange(1, 11)\n",
        "y = np.random.randint(10, 100, size=10)\n",
        "scatter_x = np.random.rand(10) * 10\n",
        "scatter_y = np.random.rand(10) * 100\n",
        "hist_data = np.random.randn(1000)  # 1000 random values for histogram\n",
        "\n",
        "# 📊 Create a 2x2 subplot grid\n",
        "fig, axes = plt.subplots(2, 2, figsize=(10, 8))\n",
        "\n",
        "# 🔹 Line Plot\n",
        "axes[0, 0].plot(x, y, marker=\"o\", linestyle=\"-\", color=\"blue\")\n",
        "axes[0, 0].set_title(\"Line Plot\")\n",
        "\n",
        "# 🔹 Bar Plot\n",
        "axes[0, 1].bar(x, y, color=\"green\")\n",
        "axes[0, 1].set_title(\"Bar Plot\")\n",
        "\n",
        "# 🔹 Scatter Plot\n",
        "axes[1, 0].scatter(scatter_x, scatter_y, color=\"red\", marker=\"x\")\n",
        "axes[1, 0].set_title(\"Scatter Plot\")\n",
        "\n",
        "# 🔹 Histogram\n",
        "axes[1, 1].hist(hist_data, bins=20, color=\"purple\", edgecolor=\"black\")\n",
        "axes[1, 1].set_title(\"Histogram\")\n",
        "\n",
        "# 🎨 Adjust layout and display the plots\n",
        "plt.tight_layout()\n",
        "plt.show()\n"
      ]
    },
    {
      "cell_type": "markdown",
      "id": "5be2c0fa",
      "metadata": {
        "id": "5be2c0fa"
      },
      "source": [
        "\n",
        "## Exercise 31: Saving and Loading CSV Files\n",
        "\n",
        "CSV files are a common format for storing tabular data. Python's Pandas library makes it easy to read from and write to CSV files.\n",
        "\n",
        "💡 **Tip:** You can always consult ChatGPT to explain the code and help you with the task.\n",
        "\n",
        "### 🔹 Try This\n",
        "Save and load a DataFrame to/from a CSV file:\n"
      ]
    },
    {
      "cell_type": "code",
      "execution_count": 184,
      "id": "f0dd0dd9",
      "metadata": {
        "id": "f0dd0dd9"
      },
      "outputs": [
        {
          "name": "stdout",
          "output_type": "stream",
          "text": [
            "    Name  Age\n",
            "0  Alice   25\n",
            "1    Bob   30\n"
          ]
        }
      ],
      "source": [
        "import pandas as pd\n",
        "\n",
        "# Create a DataFrame\n",
        "data = {'Name': ['Alice', 'Bob'], 'Age': [25, 30]}\n",
        "df = pd.DataFrame(data)\n",
        "\n",
        "# Save to CSV\n",
        "df.to_csv('people.csv', index=False)\n",
        "\n",
        "# Load from CSV\n",
        "loaded_df = pd.read_csv('people.csv')\n",
        "print(loaded_df)\n"
      ]
    },
    {
      "cell_type": "markdown",
      "id": "9e4c88ce",
      "metadata": {
        "id": "9e4c88ce"
      },
      "source": [
        "\n",
        "### 🎯 Task: Save and Load Your Data\n",
        "1. **Create a DataFrame**: Create a DataFrame with columns 'Product', 'Price', and 'Quantity'.\n",
        "2. **Save to CSV**: Save the DataFrame to a CSV file named `inventory.csv`.\n",
        "3. **Load from CSV**: Load the data back into a new DataFrame and print it.\n",
        "4. **View the CSV**: Open the `inventory.csv` file in a text editor or spreadsheet application to view its contents.\n"
      ]
    },
    {
      "cell_type": "code",
      "execution_count": 185,
      "id": "dc2465c1",
      "metadata": {
        "id": "dc2465c1"
      },
      "outputs": [
        {
          "name": "stdout",
          "output_type": "stream",
          "text": [
            "✅ Data saved to 'inventory.csv'\n",
            "\n",
            "📜 Loaded DataFrame:\n",
            "      Product  Price  Quantity\n",
            "0      Laptop   1200        10\n",
            "1       Phone    800        20\n",
            "2      Tablet    400        15\n",
            "3  Headphones    150        30\n"
          ]
        }
      ],
      "source": [
        "# Your code here\n",
        "import pandas as pd\n",
        "\n",
        "# ✅ 1. Create a DataFrame\n",
        "data = {\n",
        "    \"Product\": [\"Laptop\", \"Phone\", \"Tablet\", \"Headphones\"],\n",
        "    \"Price\": [1200, 800, 400, 150],\n",
        "    \"Quantity\": [10, 20, 15, 30]\n",
        "}\n",
        "df = pd.DataFrame(data)\n",
        "\n",
        "# 📂 2. Save the DataFrame to a CSV file\n",
        "csv_filename = \"inventory.csv\"\n",
        "df.to_csv(csv_filename, index=False)  # Save without the index column\n",
        "\n",
        "print(f\"✅ Data saved to '{csv_filename}'\")\n",
        "\n",
        "# 🔄 3. Load the data back into a new DataFrame\n",
        "df_loaded = pd.read_csv(csv_filename)\n",
        "\n",
        "# 📊 4. Print the loaded DataFrame\n",
        "print(\"\\n📜 Loaded DataFrame:\")\n",
        "print(df_loaded)\n"
      ]
    },
    {
      "cell_type": "markdown",
      "id": "9757c5d1",
      "metadata": {
        "id": "9757c5d1"
      },
      "source": [
        "\n",
        "## Exercise 32: Titanic Data Analysis Challenge\n",
        "\n",
        "In this challenge, you'll work with the Titanic dataset to perform data cleaning and analysis using Pandas.\n",
        "\n",
        "💡 **Tip:** You can always consult ChatGPT to explain the code and help you with the task.\n",
        "\n",
        "### 🔹 Try This\n",
        "\n",
        "### 🎯 Task: Analyze the Titanic Dataset\n",
        "1. **Load the [Kaggle Titanic Competition] data** into a DataFrame\n",
        "2. **Clean the Data**: Remove rows with missing values (NaNs).\n",
        "3. **Analyze the Data**:\n",
        "   - Calculate the survival rate by gender.\n",
        "   - Calculate the survival rate by passenger class.\n",
        "   - Calculate the average age of survivors and non-survivors.\n",
        "4. **Visualize the Data**:\n",
        "   - Plot the survival rate by gender using a bar chart.\n",
        "   - Plot the survival rate by passenger class using a bar chart.\n",
        "   - Create a histogram of ages for survivors and non-survivors.\n",
        "5. **Explore Further**:\n",
        "   - Plot two additional interesting insights you discover from the dataset.\n"
      ]
    },
    {
      "cell_type": "code",
      "execution_count": 186,
      "id": "18a54f0d",
      "metadata": {
        "id": "18a54f0d"
      },
      "outputs": [
        {
          "data": {
            "image/png": "[encoded data removed]",
            "text/plain": [
              "<Figure size 600x400 with 1 Axes>"
            ]
          },
          "metadata": {},
          "output_type": "display_data"
        },
        {
          "data": {
            "image/png": "[encoded data removed]",
            "text/plain": [
              "<Figure size 600x400 with 1 Axes>"
            ]
          },
          "metadata": {},
          "output_type": "display_data"
        },
        {
          "data": {
            "image/png": "[encoded data removed]",
            "text/plain": [
              "<Figure size 800x500 with 1 Axes>"
            ]
          },
          "metadata": {},
          "output_type": "display_data"
        }
      ],
      "source": [
        "# 🎯 Import necessary libraries\n",
        "import pandas as pd\n",
        "import matplotlib.pyplot as plt\n",
        "\n",
        "# 1️⃣ Load Titanic dataset\n",
        "titanic_data = pd.read_csv(\"https://web.stanford.edu/class/archive/cs/cs109/cs109.1166/stuff/titanic.csv\")\n",
        "\n",
        "# 2️⃣ Clean the Data: Remove rows with missing values\n",
        "titanic_data_clean = titanic_data.dropna()\n",
        "\n",
        "# 3️⃣ Analyze the Data\n",
        "\n",
        "# Survival rate by gender\n",
        "survival_by_gender = titanic_data_clean.groupby(\"Sex\")[\"Survived\"].mean()\n",
        "\n",
        "# Survival rate by passenger class\n",
        "survival_by_class = titanic_data_clean.groupby(\"Pclass\")[\"Survived\"].mean()\n",
        "\n",
        "# Average age of survivors and non-survivors\n",
        "average_age = titanic_data_clean.groupby(\"Survived\")[\"Age\"].mean()\n",
        "\n",
        "# 4️⃣ Visualize the Data\n",
        "\n",
        "# 🔹 Survival rate by gender (Bar Chart)\n",
        "plt.figure(figsize=(6,4))\n",
        "survival_by_gender.plot(kind=\"bar\", color=[\"blue\", \"pink\"])\n",
        "plt.title(\"Survival Rate by Gender\")\n",
        "plt.ylabel(\"Survival Rate\")\n",
        "plt.xticks(rotation=0)\n",
        "plt.grid(axis=\"y\", linestyle=\"--\")\n",
        "plt.show()\n",
        "\n",
        "# 🔹 Survival rate by passenger class (Bar Chart)\n",
        "plt.figure(figsize=(6,4))\n",
        "survival_by_class.plot(kind=\"bar\", color=[\"green\", \"orange\", \"red\"])\n",
        "plt.title(\"Survival Rate by Passenger Class\")\n",
        "plt.ylabel(\"Survival Rate\")\n",
        "plt.xticks(rotation=0)\n",
        "plt.grid(axis=\"y\", linestyle=\"--\")\n",
        "plt.show()\n",
        "\n",
        "# 🔹 Histogram of ages for survivors and non-survivors\n",
        "plt.figure(figsize=(8,5))\n",
        "titanic_data_clean[titanic_data_clean[\"Survived\"] == 1][\"Age\"].hist(alpha=0.6, bins=20, color=\"blue\", label=\"Survived\")\n",
        "titanic_data_clean[titanic_data_clean[\"Survived\"] == 0][\"Age\"].hist(alpha=0.6, bins=20, color=\"red\", label=\"Did Not Survive\")\n",
        "plt.title(\"Age Distribution of Survivors vs. Non-Survivors\")\n",
        "plt.xlabel(\"Age\")\n",
        "plt.ylabel(\"Count\")\n",
        "plt.legend()\n",
        "plt.show()\n",
        "\n",
        "# 5️⃣ Explore Further - Additiona\n"
      ]
    },
    {
      "cell_type": "markdown",
      "id": "81b1288d",
      "metadata": {
        "id": "81b1288d"
      },
      "source": [
        "\n",
        "### 🎉 Congratulations! You've completed Python Fundamentals exercises!\n"
      ]
    }
  ],
  "metadata": {
    "colab": {
      "provenance": []
    },
    "kernelspec": {
      "display_name": "base",
      "language": "python",
      "name": "python3"
    },
    "language_info": {
      "codemirror_mode": {
        "name": "ipython",
        "version": 3
      },
      "file_extension": ".py",
      "mimetype": "text/x-python",
      "name": "python",
      "nbconvert_exporter": "python",
      "pygments_lexer": "ipython3",
      "version": "3.12.4"
    }
  },
  "nbformat": 4,
  "nbformat_minor": 5
}
