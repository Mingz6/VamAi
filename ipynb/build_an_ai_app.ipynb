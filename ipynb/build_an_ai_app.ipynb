{
  "cells": [
    {
      "cell_type": "markdown",
      "metadata": {
        "id": "8tpoZDhuz4O_"
      },
      "source": [
        "## 🚀 Build a Simple AI App 🚀\n",
        "This Colab will show you how to create a basic AI app for different purposes. It’s simple, flexible, and easy to customize. We’ll use HuggingFace for AI models and Gradio for the interface.\n",
        "\n",
        "## Get Free Access to LLMs\n",
        "\n",
        "Go to https://huggingface.co/ and in your profile settings go to Access Tokens which will open a page where you can generate your own tokens.\n",
        "\n",
        "## What to Do\n",
        "- Try It Out: Run all the code below to see how it works.\n",
        "- Build Your Own App (In Class): Use the example as a guide to create something new, like:\n",
        "An automatic Instagram post generator\n",
        "A virtual tarot card reader\n",
        "A trivia app\n",
        "\n",
        "Happy Coding!"
      ]
    },
    {
      "cell_type": "code",
      "execution_count": null,
      "metadata": {
        "colab": {
          "base_uri": "https://localhost:8080/"
        },
        "id": "2TxFBEX0hVu-",
        "outputId": "5d66c0fc-d668-4775-a5f1-ca0df527ca31"
      },
      "outputs": [],
      "source": [
        "print(\"hello world issam\")"
      ]
    },
    {
      "cell_type": "code",
      "execution_count": 20,
      "metadata": {
        "id": "braUbZNXVXMq"
      },
      "outputs": [],
      "source": [
        "!pip install -q smolagents==1.4.1 gradio==5.11.0 litellm==1.57.4"
      ]
    },
    {
      "cell_type": "markdown",
      "metadata": {
        "id": "7fZUa7BEVXMr"
      },
      "source": [
        "# Step 1: Loading the Models\n",
        "\n",
        "Initial set up: use our HF token, and select a model"
      ]
    },
    {
      "cell_type": "code",
      "execution_count": 21,
      "metadata": {
        "id": "x5-3ctCwVXMs"
      },
      "outputs": [],
      "source": [
        "from smolagents import CodeAgent, HfApiModel, MultiStepAgent\n",
        "from huggingface_hub import login\n",
        "\n",
        "# You can get your own under \"Access Tokens\" in https://huggingface.co/\n",
        "your_token = \"<your_token>\"\n",
        "login(your_token)\n",
        "\n",
        "model_id = \"mistralai/Mistral-7B-Instruct-v0.2\"\n",
        "model = HfApiModel(model_id=model_id)"
      ]
    },
    {
      "cell_type": "code",
      "execution_count": null,
      "metadata": {
        "colab": {
          "base_uri": "https://localhost:8080/",
          "height": 52
        },
        "id": "IMwyhx_fzUBs",
        "outputId": "7aa89e4d-9e81-467c-9d13-5eb0cd3ad739"
      },
      "outputs": [],
      "source": [
        "# Run a coding agent\n",
        "agent = MultiStepAgent(tools=[], verbosity_level=0, model=model, add_base_tools=True)\n",
        "\n",
        "agent.run(\n",
        "    \"Who is Dylan Nihte? he is a CEO\",\n",
        ")"
      ]
    },
    {
      "cell_type": "code",
      "execution_count": null,
      "metadata": {
        "colab": {
          "base_uri": "https://localhost:8080/",
          "height": 139
        },
        "id": "CzV2EWVTfAmF",
        "outputId": "d1a22cce-0abb-4c34-bd7b-db155f5544e5"
      },
      "outputs": [],
      "source": [
        "# Import required libraries\n",
        "import json\n",
        "import gradio as gr\n",
        "from huggingface_hub import login\n",
        "from smolagents import MultiStepAgent, HfApiModel, LiteLLMModel, Tool\n",
        "import shutil\n",
        "\n",
        "\n",
        "# ============== MODEL ============== #\n",
        "def get_model(use_openai=False):\n",
        "    if use_openai:\n",
        "        # Initialize OpenAI model with API credentials\n",
        "        model = LiteLLMModel(\n",
        "            model_id=\"gpt-4o-mini\",  # Model identifier\n",
        "            api_base=\"https://api.openai.com/v1\",  # API endpoint\n",
        "            api_key=\"<your_openai_key>\",  # API key\n",
        "        )\n",
        "    else:\n",
        "        # Initialize Hugging Face model\n",
        "        login(\"<LoginApi>\")  # Login to Hugging Face\n",
        "        MODEL_ID = \"mistralai/Mistral-7B-Instruct-v0.2\"  # Define model ID\n",
        "        model = HfApiModel(model_id=MODEL_ID)  # Create model instance\n",
        "\n",
        "    return model\n",
        "\n",
        "# ============== AGENT ============== #\n",
        "def create_agent(system_prompt=\"you are a basic agent\", use_openai=True):\n",
        "    # Initialize agent with tools, verbosity, model, and system prompt\n",
        "    return MultiStepAgent(\n",
        "        tools=[],\n",
        "        verbosity_level=0,\n",
        "        model=get_model(use_openai),\n",
        "        system_prompt=system_prompt\n",
        "        + \"\"\"\n",
        "        {{managed_agents_descriptions}}\n",
        "        {{authorized_imports}}\"\"\",\n",
        "    )\n",
        "\n",
        "agent = create_agent(system_prompt=\"you are a basic agent\", use_openai=True)\n",
        "agent.run(\"who is issam laradji\")"
      ]
    },
    {
      "cell_type": "code",
      "execution_count": null,
      "metadata": {
        "colab": {
          "base_uri": "https://localhost:8080/"
        },
        "id": "qzHhiZ4cjFaB",
        "outputId": "7a305e74-e534-4ca1-c97d-71c7081da6e2"
      },
      "outputs": [],
      "source": [
        "# Import required libraries\n",
        "import json\n",
        "import gradio as gr\n",
        "from huggingface_hub import login\n",
        "from smolagents import MultiStepAgent, HfApiModel, LiteLLMModel, Tool\n",
        "import shutil\n",
        "\n",
        "def generate_image(message):\n",
        "    # Initialize image generation tool\n",
        "    image_generator = Tool.from_space(\n",
        "        \"black-forest-labs/FLUX.1-schnell\",\n",
        "        name=\"image_generator\",\n",
        "        description=\"Generate an image from a prompt\",\n",
        "    )\n",
        "\n",
        "    # Generate image based on message\n",
        "    image = image_generator(message)\n",
        "\n",
        "    # Save generated image to local directory\n",
        "    shutil.move(image, \"generated_image.png\")\n",
        "    print(\"Image generated successfully!\")\n",
        "\n",
        "generate_image(message=\"paradise\")"
      ]
    },
    {
      "cell_type": "code",
      "execution_count": null,
      "metadata": {
        "colab": {
          "base_uri": "https://localhost:8080/",
          "height": 645
        },
        "id": "jB04RRg5fHt4",
        "outputId": "06dba09b-737d-4bce-b7d8-b309ccc78838"
      },
      "outputs": [],
      "source": [
        "\"\"\"\n",
        "Basic Chat Assistant\n",
        "\n",
        "This script creates a simple chat interface with an AI assistant\n",
        "that responds in a friendly, human-like manner.\n",
        "\n",
        "The agent generates brief, clear responses to user messages.\n",
        "Requires: HuggingFace API token for authentication and access to language models.\n",
        "\"\"\"\n",
        "\n",
        "# Import required libraries\n",
        "import json\n",
        "import gradio as gr\n",
        "from huggingface_hub import login\n",
        "from smolagents import MultiStepAgent, HfApiModel, LiteLLMModel, Tool\n",
        "import shutil\n",
        "\n",
        "\n",
        "# ============== MODEL ============== #\n",
        "def get_model(use_openai=True):\n",
        "    if use_openai:\n",
        "        # Initialize OpenAI model with API credentials\n",
        "        model = LiteLLMModel(\n",
        "            model_id=\"gpt-4o-mini\",  # Model identifier\n",
        "            api_base=\"https://api.openai.com/v1\",  # API endpoint\n",
        "            api_key=\"<your_openai_key>\",  # API key\n",
        "        )\n",
        "    else:\n",
        "        # Initialize Hugging Face model\n",
        "        login(\"<LoginApi>\")  # Login to Hugging Face\n",
        "        MODEL_ID = \"mistralai/Mistral-7B-Instruct-v0.2\"  # Define model ID\n",
        "        model = HfApiModel(model_id=MODEL_ID)  # Create model instance\n",
        "\n",
        "    return model\n",
        "\n",
        "\n",
        "# ============== AGENT ============== #\n",
        "def create_agent(system_prompt):\n",
        "    # Initialize agent with tools, verbosity, model, and system prompt\n",
        "    return MultiStepAgent(\n",
        "        tools=[],\n",
        "        verbosity_level=0,\n",
        "        model=get_model(),\n",
        "        system_prompt=system_prompt\n",
        "        + \"\"\"\n",
        "        {{managed_agents_descriptions}}\n",
        "        {{authorized_imports}}\"\"\",\n",
        "    )\n",
        "\n",
        "\n",
        "# ============== GRADIO ============== #\n",
        "def chat_with_assistant(message):\n",
        "    # Get response from the assistant agent\n",
        "    response = assistant_agent.run(\n",
        "        f\"\"\"\n",
        "        Respond to this message in a friendly, helpful manner.\n",
        "        Keep responses clear and concise, 2-3 sentences max: {message}\n",
        "\n",
        "        IMPORTANT: Use simple, conversational language.\n",
        "        \"\"\"\n",
        "    )\n",
        "    return response\n",
        "\n",
        "\n",
        "def generate_image(message):\n",
        "    # Initialize image generation tool\n",
        "    image_generator = Tool.from_space(\n",
        "        \"black-forest-labs/FLUX.1-schnell\",\n",
        "        name=\"image_generator\",\n",
        "        description=\"Generate an image from a prompt\",\n",
        "    )\n",
        "\n",
        "    # Generate image based on message\n",
        "    image = image_generator(message)\n",
        "\n",
        "    # Save generated image to local directory\n",
        "    shutil.move(image, \"generated_image.png\")\n",
        "    print(\"Image generated successfully!\")\n",
        "\n",
        "\n",
        "if __name__ == \"__main__\":\n",
        "    # Initialize the assistant agent with character prompt\n",
        "    assistant_agent = create_agent(\n",
        "        system_prompt=\"\"\"You are a friendly and helpful assistant.\n",
        "            Your role is to engage in casual conversation and provide clear, helpful responses.\n",
        "            Speak in a natural, conversational tone.\n",
        "            Make your responses concise, 2-3 sentences max.\n",
        "            IMPORTANT:\n",
        "            - Keep responses friendly and natural\n",
        "            - Use simple, clear language\n",
        "            - Be helpful and supportive\n",
        "            - Maintain a conversational tone throughout\"\"\"\n",
        "    )\n",
        "\n",
        "    # Create Gradio interface for web interaction\n",
        "    with gr.Blocks() as demo:\n",
        "        # Set up UI components\n",
        "        gr.Markdown(\"# 💬 Chat Assistant\")\n",
        "        chatbot = gr.Chatbot(\n",
        "            type=\"messages\",\n",
        "            height=400,\n",
        "        )\n",
        "        with gr.Row():\n",
        "            msg = gr.Textbox(\n",
        "                label=\"Message\", placeholder=\"Enter your message here...\", scale=9\n",
        "            )\n",
        "            submit_btn = gr.Button(\"Send\", scale=1)\n",
        "        clear = gr.ClearButton([msg, chatbot])\n",
        "\n",
        "        # Define response handling function\n",
        "        def respond(message, chat_history):\n",
        "            chat_history.append({\"role\": \"user\", \"content\": message})\n",
        "            bot_message = chat_with_assistant(message)\n",
        "            # bot_message = \"welcome\"\n",
        "            generate_image(\"Create something beautiful\")\n",
        "\n",
        "            chat_history.append({\"role\": \"assistant\", \"content\": bot_message})\n",
        "            return \"\", chat_history, gr.Image(\"generated_image.png\")\n",
        "\n",
        "        # Set up event handlers\n",
        "        img = gr.Image()\n",
        "\n",
        "        msg.submit(respond, [msg, chatbot], [msg, chatbot, img])\n",
        "        submit_btn.click(respond, [msg, chatbot], [msg, chatbot, img])\n",
        "\n",
        "    # Launch the Gradio interface\n",
        "    if __name__ == \"__main__\":\n",
        "        demo.launch()\n"
      ]
    }
  ],
  "metadata": {
    "colab": {
      "provenance": []
    },
    "kernelspec": {
      "display_name": "Python 3",
      "language": "python",
      "name": "python3"
    },
    "language_info": {
      "codemirror_mode": {
        "name": "ipython",
        "version": 3
      },
      "file_extension": ".py",
      "mimetype": "text/x-python",
      "name": "python",
      "nbconvert_exporter": "python",
      "pygments_lexer": "ipython3",
      "version": "3.12.3"
    }
  },
  "nbformat": 4,
  "nbformat_minor": 0
}
