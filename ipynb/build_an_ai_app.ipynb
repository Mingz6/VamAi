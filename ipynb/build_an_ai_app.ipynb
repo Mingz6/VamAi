{
  "cells": [
    {
      "cell_type": "markdown",
      "metadata": {
        "id": "8tpoZDhuz4O_"
      },
      "source": [
        "## 🚀 Build a Simple AI App 🚀\n",
        "This Colab will show you how to create a basic AI app for different purposes. It’s simple, flexible, and easy to customize. We’ll use HuggingFace for AI models and Gradio for the interface.\n",
        "\n",
        "## Get Free Access to LLMs\n",
        "\n",
        "Go to https://huggingface.co/ and in your profile settings go to Access Tokens which will open a page where you can generate your own tokens.\n",
        "\n",
        "## What to Do\n",
        "- Try It Out: Run all the code below to see how it works.\n",
        "- Build Your Own App (In Class): Use the example as a guide to create something new, like:\n",
        "An automatic Instagram post generator\n",
        "A virtual tarot card reader\n",
        "A trivia app\n",
        "\n",
        "Happy Coding!"
      ]
    },
    {
      "cell_type": "code",
      "execution_count": null,
      "metadata": {
        "colab": {
          "base_uri": "https://localhost:8080/"
        },
        "id": "braUbZNXVXMq",
        "outputId": "4597f2bf-ee6c-456f-ff0f-7d7b9a76b95d"
      },
      "outputs": [],
      "source": [
        "!pip install -q smolagents==1.4.1 gradio==5.11.0 litellm==1.57.4"
      ]
    },
    {
      "cell_type": "markdown",
      "metadata": {
        "id": "7fZUa7BEVXMr"
      },
      "source": [
        "# Step 1: Loading the Models\n",
        "\n",
        "Initial set up: use our HF token, and select a model"
      ]
    },
    {
      "cell_type": "code",
      "execution_count": null,
      "metadata": {
        "id": "x5-3ctCwVXMs"
      },
      "outputs": [],
      "source": [
        "from smolagents import CodeAgent, HfApiModel, MultiStepAgent\n",
        "from huggingface_hub import login\n",
        "\n",
        "# You can get your own under \"Access Tokens\" in https://huggingface.co/\n",
        "your_token = \"<YOUR_TOKEN>\"\n",
        "login(your_token)\n",
        "\n",
        "model_id = \"mistralai/Mistral-7B-Instruct-v0.2\"\n",
        "model = HfApiModel(model_id=model_id)"
      ]
    },
    {
      "cell_type": "code",
      "execution_count": null,
      "metadata": {
        "id": "IMwyhx_fzUBs"
      },
      "outputs": [],
      "source": [
        "# Run a coding agent\n",
        "agent = MultiStepAgent(tools=[], verbosity_level=0, model=model, add_base_tools=True)\n",
        "\n",
        "agent.run(\n",
        "    \"Who is Steve Jobs?\",\n",
        ")"
      ]
    }
  ],
  "metadata": {
    "colab": {
      "provenance": []
    },
    "kernelspec": {
      "display_name": "base",
      "language": "python",
      "name": "python3"
    },
    "language_info": {
      "codemirror_mode": {
        "name": "ipython",
        "version": 3
      },
      "file_extension": ".py",
      "mimetype": "text/x-python",
      "name": "python",
      "nbconvert_exporter": "python",
      "pygments_lexer": "ipython3",
      "version": "3.12.4"
    }
  },
  "nbformat": 4,
  "nbformat_minor": 0
}
